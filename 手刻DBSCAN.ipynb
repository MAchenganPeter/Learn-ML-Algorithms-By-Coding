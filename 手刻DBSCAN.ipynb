{
 "cells": [
  {
   "cell_type": "markdown",
   "metadata": {},
   "source": [
    "匯入套件"
   ]
  },
  {
   "cell_type": "code",
   "execution_count": 2,
   "metadata": {},
   "outputs": [],
   "source": [
    "import pandas as pd\n",
    "import numpy as np\n",
    "import math\n",
    "import random\n",
    "from sklearn.cluster import DBSCAN\n",
    "from sklearn.metrics import confusion_matrix\n",
    "import seaborn as sns\n",
    "import matplotlib.pyplot as plt\n",
    "import copy\n",
    "from sklearn.preprocessing import LabelEncoder\n",
    "\n",
    "labelencoder = LabelEncoder()\n",
    "\n",
    "plt.rcParams['font.family'] = ['Times New Roman']\n",
    "English_fontcn = {'family': 'Times New Roman'}\n",
    "Chinese_fontcn = {'family': 'DFKai-SB'}"
   ]
  },
  {
   "cell_type": "markdown",
   "metadata": {},
   "source": [
    "讀檔"
   ]
  },
  {
   "cell_type": "code",
   "execution_count": 3,
   "metadata": {},
   "outputs": [
    {
     "data": {
      "text/html": [
       "<div>\n",
       "<style scoped>\n",
       "    .dataframe tbody tr th:only-of-type {\n",
       "        vertical-align: middle;\n",
       "    }\n",
       "\n",
       "    .dataframe tbody tr th {\n",
       "        vertical-align: top;\n",
       "    }\n",
       "\n",
       "    .dataframe thead th {\n",
       "        text-align: right;\n",
       "    }\n",
       "</style>\n",
       "<table border=\"1\" class=\"dataframe\">\n",
       "  <thead>\n",
       "    <tr style=\"text-align: right;\">\n",
       "      <th></th>\n",
       "      <th>Time</th>\n",
       "      <th>PM10</th>\n",
       "      <th>Wind_Speed</th>\n",
       "      <th>Temperature</th>\n",
       "      <th>RH</th>\n",
       "    </tr>\n",
       "  </thead>\n",
       "  <tbody>\n",
       "    <tr>\n",
       "      <th>0</th>\n",
       "      <td>2018/1/1 00:00</td>\n",
       "      <td>78</td>\n",
       "      <td>4.2</td>\n",
       "      <td>16.8</td>\n",
       "      <td>71</td>\n",
       "    </tr>\n",
       "    <tr>\n",
       "      <th>1</th>\n",
       "      <td>2018/1/1 01:00</td>\n",
       "      <td>71</td>\n",
       "      <td>3.2</td>\n",
       "      <td>16.7</td>\n",
       "      <td>71</td>\n",
       "    </tr>\n",
       "    <tr>\n",
       "      <th>2</th>\n",
       "      <td>2018/1/1 02:00</td>\n",
       "      <td>83</td>\n",
       "      <td>4.4</td>\n",
       "      <td>16.7</td>\n",
       "      <td>73</td>\n",
       "    </tr>\n",
       "    <tr>\n",
       "      <th>3</th>\n",
       "      <td>2018/1/1 03:00</td>\n",
       "      <td>70</td>\n",
       "      <td>3.5</td>\n",
       "      <td>16.7</td>\n",
       "      <td>74</td>\n",
       "    </tr>\n",
       "    <tr>\n",
       "      <th>4</th>\n",
       "      <td>2018/1/1 04:00</td>\n",
       "      <td>77</td>\n",
       "      <td>3.7</td>\n",
       "      <td>16.5</td>\n",
       "      <td>75</td>\n",
       "    </tr>\n",
       "    <tr>\n",
       "      <th>5</th>\n",
       "      <td>2018/1/1 05:00</td>\n",
       "      <td>95</td>\n",
       "      <td>4.3</td>\n",
       "      <td>16.3</td>\n",
       "      <td>76</td>\n",
       "    </tr>\n",
       "    <tr>\n",
       "      <th>6</th>\n",
       "      <td>2018/1/1 06:00</td>\n",
       "      <td>91</td>\n",
       "      <td>2.9</td>\n",
       "      <td>16.3</td>\n",
       "      <td>76</td>\n",
       "    </tr>\n",
       "    <tr>\n",
       "      <th>7</th>\n",
       "      <td>2018/1/1 07:00</td>\n",
       "      <td>85</td>\n",
       "      <td>3.8</td>\n",
       "      <td>16.6</td>\n",
       "      <td>76</td>\n",
       "    </tr>\n",
       "    <tr>\n",
       "      <th>8</th>\n",
       "      <td>2018/1/1 08:00</td>\n",
       "      <td>70</td>\n",
       "      <td>5.1</td>\n",
       "      <td>18.3</td>\n",
       "      <td>71</td>\n",
       "    </tr>\n",
       "    <tr>\n",
       "      <th>9</th>\n",
       "      <td>2018/1/1 09:00</td>\n",
       "      <td>69</td>\n",
       "      <td>6.4</td>\n",
       "      <td>19.5</td>\n",
       "      <td>69</td>\n",
       "    </tr>\n",
       "  </tbody>\n",
       "</table>\n",
       "</div>"
      ],
      "text/plain": [
       "             Time  PM10  Wind_Speed  Temperature  RH\n",
       "0  2018/1/1 00:00    78         4.2         16.8  71\n",
       "1  2018/1/1 01:00    71         3.2         16.7  71\n",
       "2  2018/1/1 02:00    83         4.4         16.7  73\n",
       "3  2018/1/1 03:00    70         3.5         16.7  74\n",
       "4  2018/1/1 04:00    77         3.7         16.5  75\n",
       "5  2018/1/1 05:00    95         4.3         16.3  76\n",
       "6  2018/1/1 06:00    91         2.9         16.3  76\n",
       "7  2018/1/1 07:00    85         3.8         16.6  76\n",
       "8  2018/1/1 08:00    70         5.1         18.3  71\n",
       "9  2018/1/1 09:00    69         6.4         19.5  69"
      ]
     },
     "execution_count": 3,
     "metadata": {},
     "output_type": "execute_result"
    }
   ],
   "source": [
    "data = pd.read_csv('麥寮測站.csv') # 僅有10筆資料\n",
    "data"
   ]
  },
  {
   "cell_type": "markdown",
   "metadata": {},
   "source": [
    "# scikit-learn 套件"
   ]
  },
  {
   "cell_type": "code",
   "execution_count": 4,
   "metadata": {},
   "outputs": [],
   "source": [
    "Eps = 4.5  # 圓半徑設定為4.5\n",
    "Ms = 2  # 圓內最少樣本數設定為2"
   ]
  },
  {
   "cell_type": "code",
   "execution_count": 5,
   "metadata": {},
   "outputs": [],
   "source": [
    "dbscan = DBSCAN(eps=Eps, min_samples=Ms)\n",
    "data = data.iloc[:,1:].reset_index(drop=True)\n",
    "dbscan.fit(data)\n",
    "dist_list = dbscan.labels_"
   ]
  },
  {
   "cell_type": "markdown",
   "metadata": {},
   "source": [
    "# 手刻套件"
   ]
  },
  {
   "cell_type": "markdown",
   "metadata": {},
   "source": [
    "- 將樣本點A視為圓中心，並計算樣本點A和其他樣本點距離，若距離 ≤ Eps，代表此樣本點位置落在圓內"
   ]
  },
  {
   "cell_type": "code",
   "execution_count": 6,
   "metadata": {},
   "outputs": [],
   "source": [
    "Find_core_points = []\n",
    "Dataset = {}\n",
    "\n",
    "for i in range(len(data)):\n",
    "    Decide_core_points = []\n",
    "    Circle_center_point = data.iloc[i,:].values\n",
    "    Other_points = list(range(len(data)))\n",
    "    Other_points.remove(i)\n",
    "    Dataset[i] = 0\n",
    "    for j in range(len(Other_points)):    \n",
    "        Dist = math.dist(data.iloc[Other_points[j],:].values, Circle_center_point)\n",
    "        if Dist <= Eps:\n",
    "            Decide_core_points.append(Other_points[j])\n",
    "    Find_core_points.append([i,*Decide_core_points])"
   ]
  },
  {
   "cell_type": "markdown",
   "metadata": {},
   "source": [
    "- 圓內至少要有 Ms 個樣本點"
   ]
  },
  {
   "cell_type": "code",
   "execution_count": 7,
   "metadata": {},
   "outputs": [],
   "source": [
    "Count_MS_Nums = list(filter(lambda x : len(x) >= Ms, Find_core_points))"
   ]
  },
  {
   "cell_type": "code",
   "execution_count": 8,
   "metadata": {},
   "outputs": [],
   "source": [
    "Count_MS_Nums = list(map(lambda x : sorted(x), Count_MS_Nums))"
   ]
  },
  {
   "cell_type": "markdown",
   "metadata": {},
   "source": [
    "- 刪除掉重複的資訊"
   ]
  },
  {
   "cell_type": "code",
   "execution_count": 9,
   "metadata": {},
   "outputs": [],
   "source": [
    "k = 0\n",
    "\n",
    "for i in range(len(Count_MS_Nums)):\n",
    "    for j in range(len(Count_MS_Nums[i])):\n",
    "        if Dataset[Count_MS_Nums[i][j]] == 0:\n",
    "            Dataset[Count_MS_Nums[i][j]] = k+1\n",
    "        if j > 0:\n",
    "            if Dataset[Count_MS_Nums[i][j-1]] != 0:\n",
    "                Dataset[Count_MS_Nums[i][j]] = Dataset[Count_MS_Nums[i][j-1]]            \n",
    "    k += 1"
   ]
  },
  {
   "cell_type": "code",
   "execution_count": 10,
   "metadata": {},
   "outputs": [
    {
     "data": {
      "text/plain": [
       "array([0, 1, 2, 1, 0, 3, 3, 2, 1, 1], dtype=int64)"
      ]
     },
     "execution_count": 10,
     "metadata": {},
     "output_type": "execute_result"
    }
   ],
   "source": [
    "dist_list  # scikit-learn 套件分群結果"
   ]
  },
  {
   "cell_type": "code",
   "execution_count": 11,
   "metadata": {},
   "outputs": [
    {
     "data": {
      "text/plain": [
       "array([0, 1, 2, 1, 0, 3, 3, 2, 1, 1], dtype=int64)"
      ]
     },
     "execution_count": 11,
     "metadata": {},
     "output_type": "execute_result"
    }
   ],
   "source": [
    "Cluster_values = labelencoder.fit_transform(list(Dataset.values()))  # 手刻套件分群結果\n",
    "Cluster_values"
   ]
  },
  {
   "cell_type": "markdown",
   "metadata": {},
   "source": [
    "驗證scikit-learn和手刻套件的結果"
   ]
  },
  {
   "cell_type": "markdown",
   "metadata": {},
   "source": [
    "- 透過混淆矩陣評估績效\n",
    "- dist_list：scikit-learn 套件測試結果\n",
    "- Cluster_values：手刻套件測試結果"
   ]
  },
  {
   "cell_type": "code",
   "execution_count": 12,
   "metadata": {},
   "outputs": [
    {
     "data": {
      "image/png": "[encoded data removed]",
      "text/plain": [
       "<Figure size 360x360 with 2 Axes>"
      ]
     },
     "metadata": {},
     "output_type": "display_data"
    }
   ],
   "source": [
    "confusion_mtx = confusion_matrix(Cluster_values, dist_list) \n",
    "sns.set(font_scale=1.5)\n",
    "plt.figure(figsize=(5,5))\n",
    "sns.heatmap(confusion_mtx, cmap='Blues',annot=True, fmt='g')\n",
    "plt.xlabel('scikit-learn 套件',fontsize=20,fontdict=Chinese_fontcn)\n",
    "plt.ylabel('手刻套件',fontsize=20,fontdict=Chinese_fontcn)\n",
    "plt.show() "
   ]
  },
  {
   "cell_type": "code",
   "execution_count": null,
   "metadata": {},
   "outputs": [],
   "source": []
  }
 ],
 "metadata": {
  "kernelspec": {
   "display_name": "Python 3",
   "language": "python",
   "name": "python3"
  },
  "language_info": {
   "codemirror_mode": {
    "name": "ipython",
    "version": 3
   },
   "file_extension": ".py",
   "mimetype": "text/x-python",
   "name": "python",
   "nbconvert_exporter": "python",
   "pygments_lexer": "ipython3",
   "version": "3.8.5"
  }
 },
 "nbformat": 4,
 "nbformat_minor": 4
}
