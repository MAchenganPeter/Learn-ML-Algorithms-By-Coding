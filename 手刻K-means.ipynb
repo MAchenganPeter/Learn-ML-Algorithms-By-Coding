{
 "cells": [
  {
   "cell_type": "markdown",
   "metadata": {},
   "source": [
    "匯入套件"
   ]
  },
  {
   "cell_type": "code",
   "execution_count": 23,
   "metadata": {},
   "outputs": [],
   "source": [
    "import pandas as pd\n",
    "import numpy as np\n",
    "import math\n",
    "import random\n",
    "from sklearn.cluster import KMeans\n",
    "from sklearn.metrics import confusion_matrix\n",
    "import seaborn as sns\n",
    "import matplotlib.pyplot as plt\n",
    "import copy\n",
    "\n",
    "plt.rcParams['font.family'] = ['Times New Roman']\n",
    "English_fontcn = {'family': 'Times New Roman'}\n",
    "Chinese_fontcn = {'family': 'DFKai-SB'}"
   ]
  },
  {
   "cell_type": "markdown",
   "metadata": {},
   "source": [
    "讀檔"
   ]
  },
  {
   "cell_type": "code",
   "execution_count": 114,
   "metadata": {},
   "outputs": [
    {
     "data": {
      "text/html": [
       "<div>\n",
       "<style scoped>\n",
       "    .dataframe tbody tr th:only-of-type {\n",
       "        vertical-align: middle;\n",
       "    }\n",
       "\n",
       "    .dataframe tbody tr th {\n",
       "        vertical-align: top;\n",
       "    }\n",
       "\n",
       "    .dataframe thead th {\n",
       "        text-align: right;\n",
       "    }\n",
       "</style>\n",
       "<table border=\"1\" class=\"dataframe\">\n",
       "  <thead>\n",
       "    <tr style=\"text-align: right;\">\n",
       "      <th></th>\n",
       "      <th>Time</th>\n",
       "      <th>PM10</th>\n",
       "      <th>Wind_Speed</th>\n",
       "      <th>Temperature</th>\n",
       "      <th>RH</th>\n",
       "    </tr>\n",
       "  </thead>\n",
       "  <tbody>\n",
       "    <tr>\n",
       "      <th>0</th>\n",
       "      <td>2018/1/1 00:00</td>\n",
       "      <td>78</td>\n",
       "      <td>4.2</td>\n",
       "      <td>16.8</td>\n",
       "      <td>71</td>\n",
       "    </tr>\n",
       "    <tr>\n",
       "      <th>1</th>\n",
       "      <td>2018/1/1 01:00</td>\n",
       "      <td>71</td>\n",
       "      <td>3.2</td>\n",
       "      <td>16.7</td>\n",
       "      <td>71</td>\n",
       "    </tr>\n",
       "    <tr>\n",
       "      <th>2</th>\n",
       "      <td>2018/1/1 02:00</td>\n",
       "      <td>83</td>\n",
       "      <td>4.4</td>\n",
       "      <td>16.7</td>\n",
       "      <td>73</td>\n",
       "    </tr>\n",
       "    <tr>\n",
       "      <th>3</th>\n",
       "      <td>2018/1/1 03:00</td>\n",
       "      <td>70</td>\n",
       "      <td>3.5</td>\n",
       "      <td>16.7</td>\n",
       "      <td>74</td>\n",
       "    </tr>\n",
       "    <tr>\n",
       "      <th>4</th>\n",
       "      <td>2018/1/1 04:00</td>\n",
       "      <td>77</td>\n",
       "      <td>3.7</td>\n",
       "      <td>16.5</td>\n",
       "      <td>75</td>\n",
       "    </tr>\n",
       "    <tr>\n",
       "      <th>5</th>\n",
       "      <td>2018/1/1 05:00</td>\n",
       "      <td>95</td>\n",
       "      <td>4.3</td>\n",
       "      <td>16.3</td>\n",
       "      <td>76</td>\n",
       "    </tr>\n",
       "    <tr>\n",
       "      <th>6</th>\n",
       "      <td>2018/1/1 06:00</td>\n",
       "      <td>91</td>\n",
       "      <td>2.9</td>\n",
       "      <td>16.3</td>\n",
       "      <td>76</td>\n",
       "    </tr>\n",
       "    <tr>\n",
       "      <th>7</th>\n",
       "      <td>2018/1/1 07:00</td>\n",
       "      <td>85</td>\n",
       "      <td>3.8</td>\n",
       "      <td>16.6</td>\n",
       "      <td>76</td>\n",
       "    </tr>\n",
       "    <tr>\n",
       "      <th>8</th>\n",
       "      <td>2018/1/1 08:00</td>\n",
       "      <td>70</td>\n",
       "      <td>5.1</td>\n",
       "      <td>18.3</td>\n",
       "      <td>71</td>\n",
       "    </tr>\n",
       "    <tr>\n",
       "      <th>9</th>\n",
       "      <td>2018/1/1 09:00</td>\n",
       "      <td>69</td>\n",
       "      <td>6.4</td>\n",
       "      <td>19.5</td>\n",
       "      <td>69</td>\n",
       "    </tr>\n",
       "  </tbody>\n",
       "</table>\n",
       "</div>"
      ],
      "text/plain": [
       "             Time  PM10  Wind_Speed  Temperature  RH\n",
       "0  2018/1/1 00:00    78         4.2         16.8  71\n",
       "1  2018/1/1 01:00    71         3.2         16.7  71\n",
       "2  2018/1/1 02:00    83         4.4         16.7  73\n",
       "3  2018/1/1 03:00    70         3.5         16.7  74\n",
       "4  2018/1/1 04:00    77         3.7         16.5  75\n",
       "5  2018/1/1 05:00    95         4.3         16.3  76\n",
       "6  2018/1/1 06:00    91         2.9         16.3  76\n",
       "7  2018/1/1 07:00    85         3.8         16.6  76\n",
       "8  2018/1/1 08:00    70         5.1         18.3  71\n",
       "9  2018/1/1 09:00    69         6.4         19.5  69"
      ]
     },
     "execution_count": 114,
     "metadata": {},
     "output_type": "execute_result"
    }
   ],
   "source": [
    "data = pd.read_csv('麥寮測站.csv') # 僅有10筆資料\n",
    "data"
   ]
  },
  {
   "cell_type": "markdown",
   "metadata": {},
   "source": [
    "# scikit-learn 套件"
   ]
  },
  {
   "cell_type": "code",
   "execution_count": 115,
   "metadata": {},
   "outputs": [],
   "source": [
    "clusters_num = 3  # 群數設定為3"
   ]
  },
  {
   "cell_type": "code",
   "execution_count": 116,
   "metadata": {},
   "outputs": [
    {
     "name": "stderr",
     "output_type": "stream",
     "text": [
      "C:\\Users\\cma51\\anaconda3\\lib\\site-packages\\sklearn\\cluster\\_kmeans.py:870: FutureWarning: The default value of `n_init` will change from 10 to 'auto' in 1.4. Set the value of `n_init` explicitly to suppress the warning\n",
      "  warnings.warn(\n",
      "C:\\Users\\cma51\\anaconda3\\lib\\site-packages\\sklearn\\cluster\\_kmeans.py:1382: UserWarning: KMeans is known to have a memory leak on Windows with MKL, when there are less chunks than available threads. You can avoid it by setting the environment variable OMP_NUM_THREADS=1.\n",
      "  warnings.warn(\n"
     ]
    }
   ],
   "source": [
    "kmeans = KMeans(init='random', n_clusters=clusters_num, random_state=0)\n",
    "data = data.iloc[:,1:].reset_index(drop=True)\n",
    "kmeans.fit(data)\n",
    "dist_list = kmeans.labels_"
   ]
  },
  {
   "cell_type": "markdown",
   "metadata": {},
   "source": [
    "# 手刻套件"
   ]
  },
  {
   "cell_type": "markdown",
   "metadata": {},
   "source": [
    "- 產生各群初始中心點"
   ]
  },
  {
   "cell_type": "code",
   "execution_count": 119,
   "metadata": {},
   "outputs": [],
   "source": [
    "def Generate_Initial_Cluster_Center(data, clusters_num=3):\n",
    "    center_list = []\n",
    "    for i in range(clusters_num):\n",
    "        PM10 = random.uniform(data['PM10'].min(), data['PM10'].max())\n",
    "        Wind_Speed = random.uniform(data['Wind_Speed'].min(), data['Wind_Speed'].max())\n",
    "        Temperature = random.uniform(data['Temperature'].min(), data['Temperature'].max())\n",
    "        RH = random.uniform(data['RH'].min(), data['RH'].max())\n",
    "        center_list.append((PM10, Wind_Speed, Temperature, RH))\n",
    "    return center_list"
   ]
  },
  {
   "cell_type": "code",
   "execution_count": 120,
   "metadata": {},
   "outputs": [],
   "source": [
    "center = Generate_Initial_Cluster_Center(data, clusters_num)"
   ]
  },
  {
   "cell_type": "markdown",
   "metadata": {},
   "source": [
    "- K-means 運作過程"
   ]
  },
  {
   "cell_type": "code",
   "execution_count": 122,
   "metadata": {},
   "outputs": [],
   "source": [
    "new_center = copy.deepcopy(center)\n",
    "\n",
    "while True:\n",
    "    Cluster_values = []\n",
    "    for i in range(len(data)):\n",
    "        Dist = []\n",
    "        for j in range(len(center)):\n",
    "            Dist.append(math.dist(data.iloc[i,:].values, center[j]))\n",
    "        Cluster_values.append(Dist.index(min(Dist)))\n",
    "    for j in range(clusters_num):\n",
    "        new_center[j] = tuple(data.iloc[np.where(np.array(Cluster_values)==j)[0], :].mean())\n",
    "    if new_center == center:\n",
    "        break\n",
    "    else:\n",
    "        center = copy.deepcopy(new_center)"
   ]
  },
  {
   "cell_type": "code",
   "execution_count": 123,
   "metadata": {},
   "outputs": [
    {
     "data": {
      "text/plain": [
       "array([1, 0, 1, 0, 1, 2, 2, 1, 0, 0])"
      ]
     },
     "execution_count": 123,
     "metadata": {},
     "output_type": "execute_result"
    }
   ],
   "source": [
    "dist_list  # scikit-learn 套件分群結果"
   ]
  },
  {
   "cell_type": "code",
   "execution_count": 124,
   "metadata": {},
   "outputs": [
    {
     "data": {
      "text/plain": [
       "[1, 0, 1, 0, 1, 2, 2, 1, 0, 0]"
      ]
     },
     "execution_count": 124,
     "metadata": {},
     "output_type": "execute_result"
    }
   ],
   "source": [
    "Cluster_values  # 手刻套件分群結果"
   ]
  },
  {
   "cell_type": "markdown",
   "metadata": {},
   "source": [
    "驗證scikit-learn和手刻套件的結果"
   ]
  },
  {
   "cell_type": "markdown",
   "metadata": {},
   "source": [
    "- 透過混淆矩陣評估績效\n",
    "- dist_list：scikit-learn 套件測試結果\n",
    "- Cluster_values：手刻套件測試結果"
   ]
  },
  {
   "cell_type": "code",
   "execution_count": 125,
   "metadata": {},
   "outputs": [
    {
     "data": {
      "image/png": "[encoded data removed]",
      "text/plain": [
       "<Figure size 360x360 with 2 Axes>"
      ]
     },
     "metadata": {},
     "output_type": "display_data"
    }
   ],
   "source": [
    "confusion_mtx = confusion_matrix(Cluster_values, dist_list) \n",
    "sns.set(font_scale=1.5)\n",
    "plt.figure(figsize=(5,5))\n",
    "sns.heatmap(confusion_mtx, cmap='Blues',annot=True, fmt='g')\n",
    "plt.xlabel('scikit-learn 套件',fontsize=20,fontdict=Chinese_fontcn)\n",
    "plt.ylabel('手刻套件',fontsize=20,fontdict=Chinese_fontcn)\n",
    "plt.show() "
   ]
  },
  {
   "cell_type": "code",
   "execution_count": null,
   "metadata": {},
   "outputs": [],
   "source": []
  }
 ],
 "metadata": {
  "kernelspec": {
   "display_name": "Python 3",
   "language": "python",
   "name": "python3"
  },
  "language_info": {
   "codemirror_mode": {
    "name": "ipython",
    "version": 3
   },
   "file_extension": ".py",
   "mimetype": "text/x-python",
   "name": "python",
   "nbconvert_exporter": "python",
   "pygments_lexer": "ipython3",
   "version": "3.8.5"
  }
 },
 "nbformat": 4,
 "nbformat_minor": 4
}
