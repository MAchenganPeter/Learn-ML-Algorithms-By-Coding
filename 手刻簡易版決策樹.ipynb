{
 "cells": [
  {
   "cell_type": "markdown",
   "metadata": {},
   "source": [
    "匯入套件"
   ]
  },
  {
   "cell_type": "code",
   "execution_count": 2,
   "metadata": {},
   "outputs": [],
   "source": [
    "import pandas as pd\n",
    "import numpy as np\n",
    "from sklearn.tree import DecisionTreeClassifier\n",
    "from sklearn.tree import export_graphviz\n",
    "from IPython.display import Image\n",
    "import pydotplus\n",
    "from sklearn.preprocessing import LabelEncoder\n",
    "from sklearn.metrics import confusion_matrix\n",
    "import seaborn as sns\n",
    "import matplotlib.pyplot as plt\n",
    "import copy\n",
    "\n",
    "labelencoder = LabelEncoder()\n",
    "\n",
    "plt.rcParams['font.family'] = ['Times New Roman']\n",
    "English_fontcn = {'family': 'Times New Roman'}\n",
    "Chinese_fontcn = {'family': 'DFKai-SB'}"
   ]
  },
  {
   "cell_type": "markdown",
   "metadata": {},
   "source": [
    "讀檔"
   ]
  },
  {
   "cell_type": "code",
   "execution_count": 3,
   "metadata": {},
   "outputs": [
    {
     "data": {
      "text/html": [
       "<div>\n",
       "<style scoped>\n",
       "    .dataframe tbody tr th:only-of-type {\n",
       "        vertical-align: middle;\n",
       "    }\n",
       "\n",
       "    .dataframe tbody tr th {\n",
       "        vertical-align: top;\n",
       "    }\n",
       "\n",
       "    .dataframe thead th {\n",
       "        text-align: right;\n",
       "    }\n",
       "</style>\n",
       "<table border=\"1\" class=\"dataframe\">\n",
       "  <thead>\n",
       "    <tr style=\"text-align: right;\">\n",
       "      <th></th>\n",
       "      <th>Age</th>\n",
       "      <th>Sex</th>\n",
       "      <th>Job</th>\n",
       "      <th>Housing</th>\n",
       "      <th>Risk</th>\n",
       "    </tr>\n",
       "  </thead>\n",
       "  <tbody>\n",
       "    <tr>\n",
       "      <th>0</th>\n",
       "      <td>67</td>\n",
       "      <td>male</td>\n",
       "      <td>2</td>\n",
       "      <td>own</td>\n",
       "      <td>good</td>\n",
       "    </tr>\n",
       "    <tr>\n",
       "      <th>1</th>\n",
       "      <td>22</td>\n",
       "      <td>female</td>\n",
       "      <td>2</td>\n",
       "      <td>own</td>\n",
       "      <td>bad</td>\n",
       "    </tr>\n",
       "    <tr>\n",
       "      <th>2</th>\n",
       "      <td>49</td>\n",
       "      <td>male</td>\n",
       "      <td>1</td>\n",
       "      <td>own</td>\n",
       "      <td>good</td>\n",
       "    </tr>\n",
       "    <tr>\n",
       "      <th>3</th>\n",
       "      <td>45</td>\n",
       "      <td>male</td>\n",
       "      <td>2</td>\n",
       "      <td>free</td>\n",
       "      <td>good</td>\n",
       "    </tr>\n",
       "    <tr>\n",
       "      <th>4</th>\n",
       "      <td>53</td>\n",
       "      <td>male</td>\n",
       "      <td>2</td>\n",
       "      <td>free</td>\n",
       "      <td>bad</td>\n",
       "    </tr>\n",
       "    <tr>\n",
       "      <th>5</th>\n",
       "      <td>35</td>\n",
       "      <td>male</td>\n",
       "      <td>1</td>\n",
       "      <td>free</td>\n",
       "      <td>good</td>\n",
       "    </tr>\n",
       "    <tr>\n",
       "      <th>6</th>\n",
       "      <td>53</td>\n",
       "      <td>male</td>\n",
       "      <td>2</td>\n",
       "      <td>own</td>\n",
       "      <td>good</td>\n",
       "    </tr>\n",
       "    <tr>\n",
       "      <th>7</th>\n",
       "      <td>35</td>\n",
       "      <td>male</td>\n",
       "      <td>3</td>\n",
       "      <td>rent</td>\n",
       "      <td>good</td>\n",
       "    </tr>\n",
       "    <tr>\n",
       "      <th>8</th>\n",
       "      <td>61</td>\n",
       "      <td>male</td>\n",
       "      <td>1</td>\n",
       "      <td>own</td>\n",
       "      <td>good</td>\n",
       "    </tr>\n",
       "    <tr>\n",
       "      <th>9</th>\n",
       "      <td>28</td>\n",
       "      <td>male</td>\n",
       "      <td>3</td>\n",
       "      <td>own</td>\n",
       "      <td>bad</td>\n",
       "    </tr>\n",
       "    <tr>\n",
       "      <th>10</th>\n",
       "      <td>25</td>\n",
       "      <td>female</td>\n",
       "      <td>2</td>\n",
       "      <td>rent</td>\n",
       "      <td>bad</td>\n",
       "    </tr>\n",
       "    <tr>\n",
       "      <th>11</th>\n",
       "      <td>24</td>\n",
       "      <td>female</td>\n",
       "      <td>2</td>\n",
       "      <td>rent</td>\n",
       "      <td>bad</td>\n",
       "    </tr>\n",
       "    <tr>\n",
       "      <th>12</th>\n",
       "      <td>22</td>\n",
       "      <td>female</td>\n",
       "      <td>2</td>\n",
       "      <td>own</td>\n",
       "      <td>good</td>\n",
       "    </tr>\n",
       "    <tr>\n",
       "      <th>13</th>\n",
       "      <td>60</td>\n",
       "      <td>male</td>\n",
       "      <td>1</td>\n",
       "      <td>own</td>\n",
       "      <td>bad</td>\n",
       "    </tr>\n",
       "    <tr>\n",
       "      <th>14</th>\n",
       "      <td>28</td>\n",
       "      <td>female</td>\n",
       "      <td>2</td>\n",
       "      <td>rent</td>\n",
       "      <td>good</td>\n",
       "    </tr>\n",
       "    <tr>\n",
       "      <th>15</th>\n",
       "      <td>32</td>\n",
       "      <td>female</td>\n",
       "      <td>1</td>\n",
       "      <td>own</td>\n",
       "      <td>bad</td>\n",
       "    </tr>\n",
       "    <tr>\n",
       "      <th>16</th>\n",
       "      <td>53</td>\n",
       "      <td>male</td>\n",
       "      <td>2</td>\n",
       "      <td>own</td>\n",
       "      <td>good</td>\n",
       "    </tr>\n",
       "    <tr>\n",
       "      <th>17</th>\n",
       "      <td>25</td>\n",
       "      <td>male</td>\n",
       "      <td>2</td>\n",
       "      <td>own</td>\n",
       "      <td>good</td>\n",
       "    </tr>\n",
       "    <tr>\n",
       "      <th>18</th>\n",
       "      <td>44</td>\n",
       "      <td>female</td>\n",
       "      <td>3</td>\n",
       "      <td>free</td>\n",
       "      <td>bad</td>\n",
       "    </tr>\n",
       "    <tr>\n",
       "      <th>19</th>\n",
       "      <td>31</td>\n",
       "      <td>male</td>\n",
       "      <td>2</td>\n",
       "      <td>own</td>\n",
       "      <td>good</td>\n",
       "    </tr>\n",
       "  </tbody>\n",
       "</table>\n",
       "</div>"
      ],
      "text/plain": [
       "    Age     Sex  Job Housing  Risk\n",
       "0    67    male    2     own  good\n",
       "1    22  female    2     own   bad\n",
       "2    49    male    1     own  good\n",
       "3    45    male    2    free  good\n",
       "4    53    male    2    free   bad\n",
       "5    35    male    1    free  good\n",
       "6    53    male    2     own  good\n",
       "7    35    male    3    rent  good\n",
       "8    61    male    1     own  good\n",
       "9    28    male    3     own   bad\n",
       "10   25  female    2    rent   bad\n",
       "11   24  female    2    rent   bad\n",
       "12   22  female    2     own  good\n",
       "13   60    male    1     own   bad\n",
       "14   28  female    2    rent  good\n",
       "15   32  female    1     own   bad\n",
       "16   53    male    2     own  good\n",
       "17   25    male    2     own  good\n",
       "18   44  female    3    free   bad\n",
       "19   31    male    2     own  good"
      ]
     },
     "execution_count": 3,
     "metadata": {},
     "output_type": "execute_result"
    }
   ],
   "source": [
    "data = pd.read_csv('credit.csv') # 僅有20筆資料\n",
    "data"
   ]
  },
  {
   "cell_type": "markdown",
   "metadata": {},
   "source": [
    "文字轉類別"
   ]
  },
  {
   "cell_type": "code",
   "execution_count": 4,
   "metadata": {},
   "outputs": [],
   "source": [
    "for i in range(len(data.columns)):\n",
    "    if (data[data.columns[i]].dtype != 'int64') | (len(data[data.columns[i]].unique()) <= 5):\n",
    "        data[data.columns[i]] = labelencoder.fit_transform(data[data.columns[i]]).astype(str)"
   ]
  },
  {
   "cell_type": "code",
   "execution_count": 5,
   "metadata": {},
   "outputs": [
    {
     "data": {
      "text/html": [
       "<div>\n",
       "<style scoped>\n",
       "    .dataframe tbody tr th:only-of-type {\n",
       "        vertical-align: middle;\n",
       "    }\n",
       "\n",
       "    .dataframe tbody tr th {\n",
       "        vertical-align: top;\n",
       "    }\n",
       "\n",
       "    .dataframe thead th {\n",
       "        text-align: right;\n",
       "    }\n",
       "</style>\n",
       "<table border=\"1\" class=\"dataframe\">\n",
       "  <thead>\n",
       "    <tr style=\"text-align: right;\">\n",
       "      <th></th>\n",
       "      <th>Age</th>\n",
       "      <th>Sex</th>\n",
       "      <th>Job</th>\n",
       "      <th>Housing</th>\n",
       "      <th>Risk</th>\n",
       "    </tr>\n",
       "  </thead>\n",
       "  <tbody>\n",
       "    <tr>\n",
       "      <th>0</th>\n",
       "      <td>67</td>\n",
       "      <td>1</td>\n",
       "      <td>1</td>\n",
       "      <td>1</td>\n",
       "      <td>1</td>\n",
       "    </tr>\n",
       "    <tr>\n",
       "      <th>1</th>\n",
       "      <td>22</td>\n",
       "      <td>0</td>\n",
       "      <td>1</td>\n",
       "      <td>1</td>\n",
       "      <td>0</td>\n",
       "    </tr>\n",
       "    <tr>\n",
       "      <th>2</th>\n",
       "      <td>49</td>\n",
       "      <td>1</td>\n",
       "      <td>0</td>\n",
       "      <td>1</td>\n",
       "      <td>1</td>\n",
       "    </tr>\n",
       "    <tr>\n",
       "      <th>3</th>\n",
       "      <td>45</td>\n",
       "      <td>1</td>\n",
       "      <td>1</td>\n",
       "      <td>0</td>\n",
       "      <td>1</td>\n",
       "    </tr>\n",
       "    <tr>\n",
       "      <th>4</th>\n",
       "      <td>53</td>\n",
       "      <td>1</td>\n",
       "      <td>1</td>\n",
       "      <td>0</td>\n",
       "      <td>0</td>\n",
       "    </tr>\n",
       "    <tr>\n",
       "      <th>5</th>\n",
       "      <td>35</td>\n",
       "      <td>1</td>\n",
       "      <td>0</td>\n",
       "      <td>0</td>\n",
       "      <td>1</td>\n",
       "    </tr>\n",
       "    <tr>\n",
       "      <th>6</th>\n",
       "      <td>53</td>\n",
       "      <td>1</td>\n",
       "      <td>1</td>\n",
       "      <td>1</td>\n",
       "      <td>1</td>\n",
       "    </tr>\n",
       "    <tr>\n",
       "      <th>7</th>\n",
       "      <td>35</td>\n",
       "      <td>1</td>\n",
       "      <td>2</td>\n",
       "      <td>2</td>\n",
       "      <td>1</td>\n",
       "    </tr>\n",
       "    <tr>\n",
       "      <th>8</th>\n",
       "      <td>61</td>\n",
       "      <td>1</td>\n",
       "      <td>0</td>\n",
       "      <td>1</td>\n",
       "      <td>1</td>\n",
       "    </tr>\n",
       "    <tr>\n",
       "      <th>9</th>\n",
       "      <td>28</td>\n",
       "      <td>1</td>\n",
       "      <td>2</td>\n",
       "      <td>1</td>\n",
       "      <td>0</td>\n",
       "    </tr>\n",
       "    <tr>\n",
       "      <th>10</th>\n",
       "      <td>25</td>\n",
       "      <td>0</td>\n",
       "      <td>1</td>\n",
       "      <td>2</td>\n",
       "      <td>0</td>\n",
       "    </tr>\n",
       "    <tr>\n",
       "      <th>11</th>\n",
       "      <td>24</td>\n",
       "      <td>0</td>\n",
       "      <td>1</td>\n",
       "      <td>2</td>\n",
       "      <td>0</td>\n",
       "    </tr>\n",
       "    <tr>\n",
       "      <th>12</th>\n",
       "      <td>22</td>\n",
       "      <td>0</td>\n",
       "      <td>1</td>\n",
       "      <td>1</td>\n",
       "      <td>1</td>\n",
       "    </tr>\n",
       "    <tr>\n",
       "      <th>13</th>\n",
       "      <td>60</td>\n",
       "      <td>1</td>\n",
       "      <td>0</td>\n",
       "      <td>1</td>\n",
       "      <td>0</td>\n",
       "    </tr>\n",
       "    <tr>\n",
       "      <th>14</th>\n",
       "      <td>28</td>\n",
       "      <td>0</td>\n",
       "      <td>1</td>\n",
       "      <td>2</td>\n",
       "      <td>1</td>\n",
       "    </tr>\n",
       "    <tr>\n",
       "      <th>15</th>\n",
       "      <td>32</td>\n",
       "      <td>0</td>\n",
       "      <td>0</td>\n",
       "      <td>1</td>\n",
       "      <td>0</td>\n",
       "    </tr>\n",
       "    <tr>\n",
       "      <th>16</th>\n",
       "      <td>53</td>\n",
       "      <td>1</td>\n",
       "      <td>1</td>\n",
       "      <td>1</td>\n",
       "      <td>1</td>\n",
       "    </tr>\n",
       "    <tr>\n",
       "      <th>17</th>\n",
       "      <td>25</td>\n",
       "      <td>1</td>\n",
       "      <td>1</td>\n",
       "      <td>1</td>\n",
       "      <td>1</td>\n",
       "    </tr>\n",
       "    <tr>\n",
       "      <th>18</th>\n",
       "      <td>44</td>\n",
       "      <td>0</td>\n",
       "      <td>2</td>\n",
       "      <td>0</td>\n",
       "      <td>0</td>\n",
       "    </tr>\n",
       "    <tr>\n",
       "      <th>19</th>\n",
       "      <td>31</td>\n",
       "      <td>1</td>\n",
       "      <td>1</td>\n",
       "      <td>1</td>\n",
       "      <td>1</td>\n",
       "    </tr>\n",
       "  </tbody>\n",
       "</table>\n",
       "</div>"
      ],
      "text/plain": [
       "    Age Sex Job Housing Risk\n",
       "0    67   1   1       1    1\n",
       "1    22   0   1       1    0\n",
       "2    49   1   0       1    1\n",
       "3    45   1   1       0    1\n",
       "4    53   1   1       0    0\n",
       "5    35   1   0       0    1\n",
       "6    53   1   1       1    1\n",
       "7    35   1   2       2    1\n",
       "8    61   1   0       1    1\n",
       "9    28   1   2       1    0\n",
       "10   25   0   1       2    0\n",
       "11   24   0   1       2    0\n",
       "12   22   0   1       1    1\n",
       "13   60   1   0       1    0\n",
       "14   28   0   1       2    1\n",
       "15   32   0   0       1    0\n",
       "16   53   1   1       1    1\n",
       "17   25   1   1       1    1\n",
       "18   44   0   2       0    0\n",
       "19   31   1   1       1    1"
      ]
     },
     "execution_count": 5,
     "metadata": {},
     "output_type": "execute_result"
    }
   ],
   "source": [
    "data"
   ]
  },
  {
   "cell_type": "markdown",
   "metadata": {},
   "source": [
    "切割訓練/測試集"
   ]
  },
  {
   "cell_type": "markdown",
   "metadata": {},
   "source": [
    "- 10筆訓練決策樹，找出特徵規則\n",
    "- 10筆測試決策樹，驗證scikit-learn/手刻套件結果"
   ]
  },
  {
   "cell_type": "code",
   "execution_count": 6,
   "metadata": {},
   "outputs": [],
   "source": [
    "Train = data[:10]\n",
    "Test = data[10:].reset_index(drop=True)"
   ]
  },
  {
   "cell_type": "markdown",
   "metadata": {},
   "source": [
    "# scikit-learn 套件"
   ]
  },
  {
   "cell_type": "code",
   "execution_count": 7,
   "metadata": {},
   "outputs": [],
   "source": [
    "target = 'Risk'  # 只有2類，good=類別1、bad=類別0\n",
    "feature = data.drop([target],axis=1).columns"
   ]
  },
  {
   "cell_type": "code",
   "execution_count": 8,
   "metadata": {},
   "outputs": [],
   "source": [
    "df_x = Train.drop([target],axis=1)\n",
    "df_y = Train[[target]]"
   ]
  },
  {
   "cell_type": "code",
   "execution_count": 9,
   "metadata": {},
   "outputs": [
    {
     "data": {
      "image/png": "[encoded data removed]",
      "text/plain": [
       "<IPython.core.display.Image object>"
      ]
     },
     "execution_count": 9,
     "metadata": {},
     "output_type": "execute_result"
    }
   ],
   "source": [
    "tree = DecisionTreeClassifier(criterion=\"gini\", random_state=0, max_depth=20)\n",
    "tree.fit(df_x, df_y)\n",
    "dot_data = export_graphviz(tree, feature_names=df_x.columns, \n",
    "                        class_names=df_y[target].unique(), filled=True, rounded=True )\n",
    "\n",
    "graph = pydotplus.graph_from_dot_data(dot_data)  \n",
    "Image(graph.create_png())"
   ]
  },
  {
   "cell_type": "markdown",
   "metadata": {},
   "source": [
    "# 手刻套件"
   ]
  },
  {
   "cell_type": "code",
   "execution_count": 10,
   "metadata": {},
   "outputs": [],
   "source": [
    "rule_database = {}  # 各特徵的篩選閥值\n",
    "rule_list = []  # 最後被決策樹挑選出來的特徵及規則\n",
    "node1_list = []  # 左邊節點(True_Node)的資訊：正負樣本數量 + Gini係數\n",
    "node2_list = []  # 右邊節點(False_Node)的資訊：正負樣本數量 + Gini係數\n",
    "predict_values = []  # 儲存測試結果\n",
    "initial_gini = 1  # 初始Gini係數\n",
    "gini_threshold = 0.1  # 若此內部節點的Gini係數小於等於0.1，就沒有必要繼續分裂下去了"
   ]
  },
  {
   "cell_type": "markdown",
   "metadata": {},
   "source": [
    "自定義函式"
   ]
  },
  {
   "cell_type": "markdown",
   "metadata": {},
   "source": [
    "- 節點分裂計算方式(split_node_standard())：Gini係數"
   ]
  },
  {
   "cell_type": "code",
   "execution_count": 11,
   "metadata": {},
   "outputs": [],
   "source": [
    "def split_node_standard(two_node):\n",
    "    node1_gini = 1\n",
    "    node2_gini = 1\n",
    "    node1 = list(two_node.values())[:int(len(list(two_node.values()))/2)]\n",
    "    node2 = list(two_node.values())[int(len(list(two_node.values()))/2):]  \n",
    "    for i in range(len(node1)):\n",
    "        try:\n",
    "            node1_gini = node1_gini - (node1[i]/sum(node1))**2\n",
    "        except:\n",
    "            node1_gini = 1\n",
    "        try:\n",
    "            node2_gini = node2_gini - (node2[i]/sum(node2))**2\n",
    "        except:\n",
    "            node2_gini = 1\n",
    "    try:\n",
    "        total_gigi = (sum(node1)/(sum(node1)+sum(node2)))*node1_gini + (sum(node2)/(sum(node1)+sum(node2)))*node2_gini\n",
    "    except:\n",
    "        total_gigi = 1\n",
    "    return node1_gini, node2_gini, total_gigi"
   ]
  },
  {
   "cell_type": "markdown",
   "metadata": {},
   "source": [
    "- 數值型特徵判斷規則(int_fill_node())：若此特徵 ≤ 閥值，代表符合節點規則(True)，左下節點+1，若此特徵 > 閥值，代表不符合節點規則(False)，右下節點+1"
   ]
  },
  {
   "cell_type": "code",
   "execution_count": 12,
   "metadata": {},
   "outputs": [],
   "source": [
    "def int_fill_node(data, target, feature, threshold):\n",
    "    Node_Num = {}\n",
    "    target_values = np.sort(data[target].unique())\n",
    "    for i in range(len(target_values)):\n",
    "        Node_Num['True_'+target_values[i]] = 0\n",
    "        Node_Num['False_'+target_values[i]] = 0\n",
    "    Node_Num = dict(sorted(Node_Num.items(), reverse=True))\n",
    "    if len(data[data[feature] <= threshold]) > 0:\n",
    "        key = data[data[feature] <= threshold][target].value_counts()\n",
    "        for i in range(len(key)):\n",
    "            Node_Num['True_'+str(key.index[i])] = key.values[i]\n",
    "    if len(data[data[feature] > threshold]) > 0:\n",
    "        key = data[data[feature] > threshold][target].value_counts()\n",
    "        for i in range(len(key)):\n",
    "            Node_Num['False_'+str(key.index[i])] = key.values[i]\n",
    "    return Node_Num"
   ]
  },
  {
   "cell_type": "markdown",
   "metadata": {},
   "source": [
    "- 類別型特徵判斷規則(str_fill_node())：若此特徵 = 類別，代表符合節點規則(True)，左下節點+1，若此特徵 ≠ 類別，代表不符合節點規則(False)，右下節點+1"
   ]
  },
  {
   "cell_type": "code",
   "execution_count": 13,
   "metadata": {},
   "outputs": [],
   "source": [
    "def str_fill_node(data, target, feature, threshold):\n",
    "    Node_Num = {}\n",
    "    target_values = np.sort(data[target].unique())\n",
    "    for i in range(len(target_values)):\n",
    "        Node_Num['True_'+target_values[i]] = 0\n",
    "        Node_Num['False_'+target_values[i]] = 0\n",
    "    Node_Num = dict(sorted(Node_Num.items(), reverse=True))\n",
    "    if len(data[data[feature] == threshold]) > 0:\n",
    "        key = data[data[feature] == threshold][target].value_counts()\n",
    "        for i in range(len(key)):\n",
    "            Node_Num['True_'+str(key.index[i])] = key.values[i]\n",
    "    if len(data[data[feature] != threshold]) > 0:\n",
    "        key = data[data[feature] != threshold][target].value_counts()\n",
    "        for i in range(len(key)):\n",
    "            Node_Num['False_'+str(key.index[i])] = key.values[i]\n",
    "    return Node_Num"
   ]
  },
  {
   "cell_type": "markdown",
   "metadata": {},
   "source": [
    "建立各特徵的篩選閥值"
   ]
  },
  {
   "cell_type": "markdown",
   "metadata": {},
   "source": [
    "- 如何計算數值型特徵判斷規則：先將此欄位數值由小到大排序，計算前後兩筆資料的平均值，即為判斷規則"
   ]
  },
  {
   "cell_type": "code",
   "execution_count": 14,
   "metadata": {},
   "outputs": [
    {
     "data": {
      "text/plain": [
       "{'Age': [25.0, 31.5, 35.0, 40.0, 47.0, 51.0, 53.0, 57.0, 64.0],\n",
       " 'Sex': ['0', '1'],\n",
       " 'Job': ['0', '1', '2'],\n",
       " 'Housing': ['0', '1', '2']}"
      ]
     },
     "execution_count": 14,
     "metadata": {},
     "output_type": "execute_result"
    }
   ],
   "source": [
    "for i in range(len(feature)):\n",
    "    threshold_list = []\n",
    "    if Train[feature[i]].dtype == 'O':\n",
    "        Obj = list(Train[feature[i]].unique())\n",
    "        Obj.sort()\n",
    "        rule_database[feature[i]] = Obj\n",
    "    else:\n",
    "        Train = Train.sort_values(by=feature[i]).reset_index(drop=True)\n",
    "        int_range = Train[feature[i]].values\n",
    "        for j in range(len(int_range)):\n",
    "            if len(int_range) - j != 1:\n",
    "                threshold_list.append(sum(int_range[j:j+2])/2)\n",
    "        rule_database[feature[i]] = threshold_list\n",
    "        \n",
    "rule_database"
   ]
  },
  {
   "cell_type": "markdown",
   "metadata": {},
   "source": [
    "尋找規則"
   ]
  },
  {
   "cell_type": "code",
   "execution_count": 15,
   "metadata": {},
   "outputs": [],
   "source": [
    "while initial_gini > gini_threshold :\n",
    "    \n",
    "    node1_gini_database = copy.deepcopy(rule_database)\n",
    "    node2_gini_database = copy.deepcopy(rule_database)\n",
    "    total_gigi_database = copy.deepcopy(rule_database)\n",
    "    node_info = {}\n",
    "\n",
    "    for i in range(len(feature)):\n",
    "        for j in range(len(rule_database[feature[i]])):\n",
    "            if type(rule_database[feature[i]][j]) != str:\n",
    "                fill_node = int_fill_node(Train, target, feature[i], rule_database[feature[i]][j])\n",
    "                node_info[feature[i]+'<='+str(rule_database[feature[i]][j])] = fill_node\n",
    "            else:\n",
    "                fill_node = str_fill_node(Train, target, feature[i], rule_database[feature[i]][j])\n",
    "                node_info[feature[i]+'=='+rule_database[feature[i]][j]] = fill_node\n",
    "            node1_gini_database[feature[i]][j],node2_gini_database[feature[i]][j],\\\n",
    "            total_gigi_database[feature[i]][j] = split_node_standard(fill_node)\n",
    "            \n",
    "    index1 = []\n",
    "    for i in range(len(feature)):\n",
    "        index1.append(min(total_gigi_database[feature[i]]))\n",
    "        \n",
    "    feature_index = index1.index(min(index1))\n",
    "    gini_values = min(index1)  # 找出最小的Gini係數\n",
    "    value_index = total_gigi_database[feature[feature_index]].index(min(total_gigi_database[feature[feature_index]]))\n",
    "    \n",
    "    key_feature = feature[feature_index]\n",
    "    key_feature_rule = rule_database[feature[feature_index]][value_index]\n",
    "    rule_database[key_feature].remove(key_feature_rule)\n",
    "    \n",
    "    if type(key_feature_rule) != str:\n",
    "        rule = key_feature+'<='+str(key_feature_rule)\n",
    "    else:\n",
    "        rule = key_feature+'=='+key_feature_rule\n",
    "    \n",
    "    node1 = list(node_info[rule].values())[:int(len(list(node_info[rule]))/2)] \n",
    "    node1_list.append([*node1,node1_gini_database[key_feature][value_index]])\n",
    "    node2 = list(node_info[rule].values())[int(len(list(node_info[rule]))/2):] \n",
    "    node2_list.append([*node2,node2_gini_database[key_feature][value_index]])\n",
    "\n",
    "    if node1_gini_database[key_feature][value_index] <= gini_threshold:\n",
    "        if type(key_feature_rule) != str:\n",
    "            Train = Train.drop(Train[Train[key_feature] <= key_feature_rule].index,axis=0).reset_index(drop=True)\n",
    "        else:\n",
    "            Train = Train.drop(Train[Train[key_feature] == key_feature_rule].index,axis=0).reset_index(drop=True)\n",
    "    if node2_gini_database[key_feature][value_index] <= gini_threshold:\n",
    "        if type(key_feature_rule) != str:\n",
    "            Train = Train.drop(Train[Train[key_feature] > key_feature_rule].index,axis=0).reset_index(drop=True)\n",
    "        else:\n",
    "            Train = Train.drop(Train[Train[key_feature] != key_feature_rule].index,axis=0).reset_index(drop=True)\n",
    "    \n",
    "    rule_list.append(rule)\n",
    "    \n",
    "    if gini_values < initial_gini:\n",
    "        initial_gini = copy.deepcopy(gini_values)\n",
    "    else:\n",
    "        break"
   ]
  },
  {
   "cell_type": "code",
   "execution_count": 16,
   "metadata": {},
   "outputs": [
    {
     "data": {
      "text/plain": [
       "['Age<=31.5', 'Housing==0', 'Age<=47.0']"
      ]
     },
     "execution_count": 16,
     "metadata": {},
     "output_type": "execute_result"
    }
   ],
   "source": [
    "rule_list  # 結果和scikit-learn 套件一樣，只需要3個特徵規則就可以完成一顆決策樹"
   ]
  },
  {
   "cell_type": "code",
   "execution_count": 17,
   "metadata": {},
   "outputs": [
    {
     "data": {
      "text/plain": [
       "[[0, 2, 0.0], [2, 1, 0.4444444444444445], [2, 0, 0.0]]"
      ]
     },
     "execution_count": 17,
     "metadata": {},
     "output_type": "execute_result"
    }
   ],
   "source": [
    "node1_list  # True：[[特徵規則1_good數量, 特徵規則1_bad數量, 特徵規則1_Gini係數], [特徵規則2_good數量, 特徵規則2_bad數量, 特徵規則2_Gini係數], [特徵規則3_good數量, 特徵規則3_bad數量, 特徵規則3_Gini係數]]"
   ]
  },
  {
   "cell_type": "code",
   "execution_count": 18,
   "metadata": {},
   "outputs": [
    {
     "data": {
      "text/plain": [
       "[[7, 1, 0.21875], [5, 0, 0.0], [0, 1, 0.0]]"
      ]
     },
     "execution_count": 18,
     "metadata": {},
     "output_type": "execute_result"
    }
   ],
   "source": [
    "node2_list  # False：[[特徵規則1_good數量, 特徵規則1_bad數量, 特徵規則1_Gini係數], [特徵規則2_good數量, 特徵規則2_bad數量, 特徵規則2_Gini係數], [特徵規則3_good數量, 特徵規則3_bad數量, 特徵規則3_Gini係數]]"
   ]
  },
  {
   "cell_type": "markdown",
   "metadata": {},
   "source": [
    "測試"
   ]
  },
  {
   "cell_type": "code",
   "execution_count": 19,
   "metadata": {},
   "outputs": [],
   "source": [
    "for j in range(len(Test)):\n",
    "    for i in range(len(rule_list)):    \n",
    "        if len(rule_list[i].split('<=')) > 1:\n",
    "            split_rule = rule_list[i].split('<=')\n",
    "            value_type = 0\n",
    "        if len(rule_list[i].split('==')) > 1:\n",
    "            split_rule = rule_list[i].split('==')\n",
    "            value_type = 1\n",
    "        if value_type == 0:\n",
    "            if Test.loc[j, split_rule[0]] <= float(split_rule[1]):\n",
    "                if node1_list[i][-1] <= gini_threshold:\n",
    "                    if node1_list[i][:int(len(list(node_info[rule]))/2)].index(max(node1_list[i][:int(len(list(node_info[rule]))/2)])) == 1:\n",
    "                        predict_values.append('0')\n",
    "                        break\n",
    "                    else:\n",
    "                        predict_values.append('1')\n",
    "                        break\n",
    "            else:\n",
    "                if node2_list[i][-1] <= gini_threshold:\n",
    "                    if node2_list[i][:int(len(list(node_info[rule]))/2)].index(max(node2_list[i][:int(len(list(node_info[rule]))/2)])) == 1:\n",
    "                        predict_values.append('0')\n",
    "                        break\n",
    "                    else:\n",
    "                        predict_values.append('1')\n",
    "                        break\n",
    "        if value_type == 1:\n",
    "            if Test.loc[j, split_rule[0]] == split_rule[1]:\n",
    "                if node1_list[i][-1] <= gini_threshold:\n",
    "                    if node1_list[i][:int(len(list(node_info[rule]))/2)].index(max(node1_list[i][:int(len(list(node_info[rule]))/2)])) == 1:\n",
    "                        predict_values.append('0')\n",
    "                        break\n",
    "                    else:\n",
    "                        predict_values.append('1')\n",
    "                        break\n",
    "            else:\n",
    "                if node2_list[i][-1] <= gini_threshold:\n",
    "                    if node2_list[i][:int(len(list(node_info[rule]))/2)].index(max(node2_list[i][:int(len(list(node_info[rule]))/2)])) == 1:\n",
    "                        predict_values.append('0')\n",
    "                        break\n",
    "                    else:\n",
    "                        predict_values.append('1')\n",
    "                        break"
   ]
  },
  {
   "cell_type": "markdown",
   "metadata": {},
   "source": [
    "驗證scikit-learn和手刻套件的結果"
   ]
  },
  {
   "cell_type": "markdown",
   "metadata": {},
   "source": [
    "- 透過混淆矩陣評估績效\n",
    "- y_true：scikit-learn 套件測試結果\n",
    "- predict_values：手刻套件測試結果"
   ]
  },
  {
   "cell_type": "code",
   "execution_count": 20,
   "metadata": {},
   "outputs": [
    {
     "data": {
      "image/png": "[encoded data removed]",
      "text/plain": [
       "<Figure size 360x360 with 2 Axes>"
      ]
     },
     "metadata": {},
     "output_type": "display_data"
    }
   ],
   "source": [
    "y_true = tree.predict(Test.drop([target],axis=1))\n",
    "confusion_mtx = confusion_matrix(predict_values, y_true) \n",
    "sns.set(font_scale=1.5)\n",
    "plt.figure(figsize=(5,5))\n",
    "sns.heatmap(confusion_mtx, cmap='Blues',annot=True, fmt='g')\n",
    "plt.xlabel('scikit-learn 套件',fontsize=20,fontdict=Chinese_fontcn)\n",
    "plt.ylabel('手刻套件',fontsize=20,fontdict=Chinese_fontcn)\n",
    "plt.show() "
   ]
  },
  {
   "cell_type": "code",
   "execution_count": null,
   "metadata": {},
   "outputs": [],
   "source": []
  }
 ],
 "metadata": {
  "kernelspec": {
   "display_name": "Python 3",
   "language": "python",
   "name": "python3"
  },
  "language_info": {
   "codemirror_mode": {
    "name": "ipython",
    "version": 3
   },
   "file_extension": ".py",
   "mimetype": "text/x-python",
   "name": "python",
   "nbconvert_exporter": "python",
   "pygments_lexer": "ipython3",
   "version": "3.8.5"
  }
 },
 "nbformat": 4,
 "nbformat_minor": 4
}
